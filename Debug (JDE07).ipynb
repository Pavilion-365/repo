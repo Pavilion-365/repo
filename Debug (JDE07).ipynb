{
 "cells": [
  {
   "cell_type": "markdown",
   "id": "f0765f31-53ce-4619-946d-da99d6fe8c9b",
   "metadata": {},
   "source": [
    "### Error Message"
   ]
  },
  {
   "cell_type": "code",
   "execution_count": null,
   "id": "39abb248-d707-44fb-b788-be803d8cd9c6",
   "metadata": {
    "scrolled": true
   },
   "outputs": [],
   "source": [
    "def compute_mean(score_list):\n",
    "    total = sum(score_list)\n",
    "    count = len(score_list)\n",
    "    average = total / count\n",
    "    return average\n",
    "\n",
    "compute_mean([]) # empty list"
   ]
  },
  {
   "cell_type": "markdown",
   "id": "6d7c2a98-c61f-4ee4-94a6-223d5518795e",
   "metadata": {},
   "source": [
    "### Print (for information)"
   ]
  },
  {
   "cell_type": "code",
   "execution_count": null,
   "id": "09b7f574-33a1-4889-94b3-20f539de3334",
   "metadata": {
    "jupyter": {
     "source_hidden": true
    }
   },
   "outputs": [],
   "source": [
    "def compute_mean(score_list):\n",
    "    total = sum(score_list)\n",
    "    count = len(score_list)\n",
    "    print(total,count)\n",
    "    average = total / count\n",
    "    print(average)\n",
    "    return average\n",
    "\n",
    "compute_mean([])"
   ]
  },
  {
   "cell_type": "markdown",
   "id": "0f237947-83ad-4980-9dbd-3f559c8fde6b",
   "metadata": {},
   "source": [
    "### %debug"
   ]
  },
  {
   "cell_type": "markdown",
   "id": "c4879a39-b047-4038-ac2c-1765547c1210",
   "metadata": {},
   "source": [
    "The %debug magic command in Python is a feature in IPython and Jupyter environments. It provides a convenient way to initiate the Python Debugger (PDB) at the point where an exception occurred.\n",
    "- https://ipython.readthedocs.io/en/stable/interactive/magics.html\n",
    "- https://www.codecademy.com/article/getting-started-with-jupyter"
   ]
  },
  {
   "cell_type": "code",
   "execution_count": null,
   "id": "01c165c7-28b5-41b5-85af-b7540650d836",
   "metadata": {},
   "outputs": [],
   "source": [
    "def compute_mean(score_list):\n",
    "    total = sum(score_list)\n",
    "    count = len(score_list)\n",
    "    average = total / count\n",
    "    return average\n",
    "\n",
    "compute_mean([]) # empty list\n",
    "#%debug"
   ]
  },
  {
   "cell_type": "code",
   "execution_count": null,
   "id": "90f6fa07-1ddd-446f-a6b3-8cc523fccab6",
   "metadata": {},
   "outputs": [],
   "source": [
    "%debug"
   ]
  },
  {
   "attachments": {
    "a6021cf8-8ba5-4d45-9127-d8c7cfe3fef1.png": {
     "image/png": "[encoded data removed]"
    }
   },
   "cell_type": "markdown",
   "id": "7e753a21-2614-4f7d-8398-a455c010515f",
   "metadata": {},
   "source": [
    "### Debugger in Jupyter Notebook\n",
    "- https://jupyterlab.readthedocs.io/en/latest/user/debugger.html\n",
    "\n",
    "1) Turn on the debugger (see icon in red)\n",
    "![image.png](attachment:a6021cf8-8ba5-4d45-9127-d8c7cfe3fef1.png)\n",
    "\n",
    "2) Go to View and click Debugger Panel to show.\n",
    "\n",
    "3) Click the cell number that you want to insert the breakpoint, where the code before the breakpoint will run till.\n",
    "(Go to View and choose 'Show Line Numbers' if needed)\n",
    "\n",
    "5) After debugging, turn off the debugger."
   ]
  },
  {
   "cell_type": "code",
   "execution_count": null,
   "id": "c740b344-eb99-488a-9999-d0ef4b649f91",
   "metadata": {},
   "outputs": [],
   "source": [
    "def compute_mean(score_list):\n",
    "    total = sum(score_list)\n",
    "    count = len(score_list)\n",
    "    average = total / count\n",
    "    return average"
   ]
  },
  {
   "cell_type": "code",
   "execution_count": null,
   "id": "2061347c-261b-420d-a365-a770ef8debd7",
   "metadata": {},
   "outputs": [],
   "source": [
    "compute_mean([]) # empty list"
   ]
  },
  {
   "cell_type": "markdown",
   "id": "c091dfe0-4937-4674-b9ee-da4e3f0801c7",
   "metadata": {},
   "source": [
    "Another Reference\n",
    "- https://pythontutor.com/visualize.html#mode=edit"
   ]
  },
  {
   "cell_type": "code",
   "execution_count": null,
   "id": "d2dbbed2-6a22-4806-b7d6-9a530448131a",
   "metadata": {},
   "outputs": [],
   "source": []
  },
  {
   "cell_type": "code",
   "execution_count": null,
   "id": "53d05dd5",
   "metadata": {},
   "outputs": [],
   "source": []
  }
 ],
 "metadata": {
  "kernelspec": {
   "display_name": "Python 3 (ipykernel)",
   "language": "python",
   "name": "python3"
  },
  "language_info": {
   "codemirror_mode": {
    "name": "ipython",
    "version": 3
   },
   "file_extension": ".py",
   "mimetype": "text/x-python",
   "name": "python",
   "nbconvert_exporter": "python",
   "pygments_lexer": "ipython3",
   "version": "3.13.5"
  }
 },
 "nbformat": 4,
 "nbformat_minor": 5
}
